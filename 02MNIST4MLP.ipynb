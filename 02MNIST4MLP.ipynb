{
  "cells": [
    {
      "cell_type": "markdown",
      "metadata": {
        "id": "Vl8Q3pb5FCic"
      },
      "source": [
        "**4.2**\n",
        "\n",
        "In this project, I created a multi-layer perceptron (**MLP**) to perform classification of images. The images being classified are of digits (they are images of the numbers 1-4) from the popular **MNIST** dataset. This artificial neural network did successfully classify images (**accuracy is around 95%**!)\n",
        "\n",
        "In this project, I tested different activation functions: relu versus sigmoid and played with the nodes and number of hidden layers.\n",
        "\n",
        "Ultimately, I learned constructing about not only just constructing an Artificial Neural Network but also the effect of depth of the network and activation function.\n",
        "\n",
        "*Decreasing nodes in the hidden layer*\n",
        "- When too few nodes in the hiddn layer, the network struggles to read patterns in the data (underfitting). This observation is derived from performance on test and training datasets. The model has lower accuracy (less than 90%) and does not translate well to the test dataset from training.\n",
        "\n",
        "*Increasing nodes in hidden layer*\n",
        "  -One issue with too many nodes in the hidden layer is that teh data is then overfit. Overfitting the data means that the model has memorized the training data and relies on it too heavily. Therefore, it cannot generalize from it. It captures noise and other idiosyncracies in the trainnig data and does a poor job when applied to new, unseen data. This type of model performs very well on training data and poorly on the test dataset.\n",
        "\n",
        "*Increasing number of hidden layers in the model*\n",
        "\n",
        "- In this circumstance, the more layers in the ANN, the better it could preform on the training and test datasets. Adding layers typically might increase performance of a model on the test dataset, but adding an excess can once again lead to overfitting of the data. This was an observation derived from the training losses and shape of categorical cross-entropy loss function.\n",
        "\n",
        "**Observation Summary**\n",
        "\n",
        "Ultimately, I changed the activation function from relu (R) to sigmoid (S) and report below my findings. The 64 relu/sigmoid was most accurate but relu could lead to overfitting (this observation is supported by the shape of the cross-correlation plot).\n",
        "\n",
        " *Findings*\n",
        "\n",
        "- 32 RELU:\n",
        "  Loss: .02991 / Accuracy: .9306\n",
        "- 32 SIGMOID:\n",
        "  Loss: .2963 / Accuracy: .9098\n",
        "- 16 SIGMOID:\n",
        "  Loss: .4215 / Accuracy: .8743\n",
        "  -See epoch 1-10 accuracy and loss reported below\n",
        "- 16 RELU:\n",
        "  Loss: .6434 / Accuracy: .7847\n",
        "- 64 RELU:\n",
        "  Loss: .2790 / Accuracy: .9488\n",
        "- 64 SIGMOID:\n",
        "  Loss: .2790 / Accuracy: .9151\n",
        "- 64 SIGMOID (2 hidden layers):\n",
        "Accuracy: .9237 / Loss: .2568\n",
        "\n"
      ]
    },
    {
      "cell_type": "code",
      "execution_count": 1,
      "metadata": {
        "colab": {
          "base_uri": "https://localhost:8080/",
          "height": 537
        },
        "id": "sNLJQak1FCid",
        "outputId": "dab0dcd4-6200-4be7-eb3e-4f3ef1c6c675"
      },
      "outputs": [
        {
          "output_type": "stream",
          "name": "stdout",
          "text": [
            "Downloading data from https://storage.googleapis.com/tensorflow/tf-keras-datasets/mnist.npz\n",
            "\u001b[1m11490434/11490434\u001b[0m \u001b[32m━━━━━━━━━━━━━━━━━━━━\u001b[0m\u001b[37m\u001b[0m \u001b[1m1s\u001b[0m 0us/step\n",
            "x_train shape: (60000, 784)\n",
            "Number of images in x_train 60000\n",
            "Number of images in x_test 10000\n"
          ]
        },
        {
          "output_type": "execute_result",
          "data": {
            "text/plain": [
              "<matplotlib.image.AxesImage at 0x7a9c03211ae0>"
            ]
          },
          "metadata": {},
          "execution_count": 1
        },
        {
          "output_type": "display_data",
          "data": {
            "text/plain": [
              "<Figure size 640x480 with 1 Axes>"
            ],
            "image/png": "[encoded data removed]"
          },
          "metadata": {}
        }
      ],
      "source": [
        "# P2: MNIST Classification using a Multi Layer Perceptron\n",
        "\n",
        "# Import numpy, Tensorflow and Keras to build and run a custom ANN\n",
        "import tensorflow as tf\n",
        "import numpy as np\n",
        "import matplotlib.pyplot as plt\n",
        "%matplotlib inline\n",
        "\n",
        "# Get the MNIST dataset from Keras for training and testing; x - input image, y - output label\n",
        "(x_train, y_train), (x_test, y_test) = tf.keras.datasets.mnist.load_data()\n",
        "\n",
        "# Reshape the input data to fit the Keras ANN model - (Nsamples, 28, 28) is converted to (Nsamples, 28*28)\n",
        "x_train = x_train.reshape(x_train.shape[0], x_train.shape[1]*x_train.shape[2])\n",
        "x_test = x_test.reshape(x_test.shape[0], x_test.shape[1]*x_test.shape[2])\n",
        "print('x_train shape:', x_train.shape)\n",
        "print('Number of images in x_train', x_train.shape[0])\n",
        "print('Number of images in x_test', x_test.shape[0])\n",
        "\n",
        "# Check sample image - change index to try different inputs\n",
        "image_index = 1111\n",
        "plt.imshow(x_test[image_index].reshape(28, 28),cmap='Greys')"
      ]
    },
    {
      "cell_type": "code",
      "execution_count": 2,
      "metadata": {
        "colab": {
          "base_uri": "https://localhost:8080/",
          "height": 254
        },
        "id": "nomEZVI8FCie",
        "outputId": "99192611-185c-4187-fd38-085d5498b994"
      },
      "outputs": [
        {
          "output_type": "stream",
          "name": "stderr",
          "text": [
            "/usr/local/lib/python3.10/dist-packages/keras/src/layers/core/dense.py:87: UserWarning: Do not pass an `input_shape`/`input_dim` argument to a layer. When using Sequential models, prefer using an `Input(shape)` object as the first layer in the model instead.\n",
            "  super().__init__(activity_regularizer=activity_regularizer, **kwargs)\n"
          ]
        },
        {
          "output_type": "display_data",
          "data": {
            "text/plain": [
              "\u001b[1mModel: \"sequential\"\u001b[0m\n"
            ],
            "text/html": [
              "<pre style=\"white-space:pre;overflow-x:auto;line-height:normal;font-family:Menlo,'DejaVu Sans Mono',consolas,'Courier New',monospace\"><span style=\"font-weight: bold\">Model: \"sequential\"</span>\n",
              "</pre>\n"
            ]
          },
          "metadata": {}
        },
        {
          "output_type": "display_data",
          "data": {
            "text/plain": [
              "┏━━━━━━━━━━━━━━━━━━━━━━━━━━━━━━━━━━━━━━┳━━━━━━━━━━━━━━━━━━━━━━━━━━━━━┳━━━━━━━━━━━━━━━━━┓\n",
              "┃\u001b[1m \u001b[0m\u001b[1mLayer (type)                        \u001b[0m\u001b[1m \u001b[0m┃\u001b[1m \u001b[0m\u001b[1mOutput Shape               \u001b[0m\u001b[1m \u001b[0m┃\u001b[1m \u001b[0m\u001b[1m        Param #\u001b[0m\u001b[1m \u001b[0m┃\n",
              "┡━━━━━━━━━━━━━━━━━━━━━━━━━━━━━━━━━━━━━━╇━━━━━━━━━━━━━━━━━━━━━━━━━━━━━╇━━━━━━━━━━━━━━━━━┩\n",
              "│ dense (\u001b[38;5;33mDense\u001b[0m)                        │ (\u001b[38;5;45mNone\u001b[0m, \u001b[38;5;34m16\u001b[0m)                  │          \u001b[38;5;34m12,560\u001b[0m │\n",
              "├──────────────────────────────────────┼─────────────────────────────┼─────────────────┤\n",
              "│ dense_1 (\u001b[38;5;33mDense\u001b[0m)                      │ (\u001b[38;5;45mNone\u001b[0m, \u001b[38;5;34m10\u001b[0m)                  │             \u001b[38;5;34m170\u001b[0m │\n",
              "└──────────────────────────────────────┴─────────────────────────────┴─────────────────┘\n"
            ],
            "text/html": [
              "<pre style=\"white-space:pre;overflow-x:auto;line-height:normal;font-family:Menlo,'DejaVu Sans Mono',consolas,'Courier New',monospace\">┏━━━━━━━━━━━━━━━━━━━━━━━━━━━━━━━━━━━━━━┳━━━━━━━━━━━━━━━━━━━━━━━━━━━━━┳━━━━━━━━━━━━━━━━━┓\n",
              "┃<span style=\"font-weight: bold\"> Layer (type)                         </span>┃<span style=\"font-weight: bold\"> Output Shape                </span>┃<span style=\"font-weight: bold\">         Param # </span>┃\n",
              "┡━━━━━━━━━━━━━━━━━━━━━━━━━━━━━━━━━━━━━━╇━━━━━━━━━━━━━━━━━━━━━━━━━━━━━╇━━━━━━━━━━━━━━━━━┩\n",
              "│ dense (<span style=\"color: #0087ff; text-decoration-color: #0087ff\">Dense</span>)                        │ (<span style=\"color: #00d7ff; text-decoration-color: #00d7ff\">None</span>, <span style=\"color: #00af00; text-decoration-color: #00af00\">16</span>)                  │          <span style=\"color: #00af00; text-decoration-color: #00af00\">12,560</span> │\n",
              "├──────────────────────────────────────┼─────────────────────────────┼─────────────────┤\n",
              "│ dense_1 (<span style=\"color: #0087ff; text-decoration-color: #0087ff\">Dense</span>)                      │ (<span style=\"color: #00d7ff; text-decoration-color: #00d7ff\">None</span>, <span style=\"color: #00af00; text-decoration-color: #00af00\">10</span>)                  │             <span style=\"color: #00af00; text-decoration-color: #00af00\">170</span> │\n",
              "└──────────────────────────────────────┴─────────────────────────────┴─────────────────┘\n",
              "</pre>\n"
            ]
          },
          "metadata": {}
        },
        {
          "output_type": "display_data",
          "data": {
            "text/plain": [
              "\u001b[1m Total params: \u001b[0m\u001b[38;5;34m12,730\u001b[0m (49.73 KB)\n"
            ],
            "text/html": [
              "<pre style=\"white-space:pre;overflow-x:auto;line-height:normal;font-family:Menlo,'DejaVu Sans Mono',consolas,'Courier New',monospace\"><span style=\"font-weight: bold\"> Total params: </span><span style=\"color: #00af00; text-decoration-color: #00af00\">12,730</span> (49.73 KB)\n",
              "</pre>\n"
            ]
          },
          "metadata": {}
        },
        {
          "output_type": "display_data",
          "data": {
            "text/plain": [
              "\u001b[1m Trainable params: \u001b[0m\u001b[38;5;34m12,730\u001b[0m (49.73 KB)\n"
            ],
            "text/html": [
              "<pre style=\"white-space:pre;overflow-x:auto;line-height:normal;font-family:Menlo,'DejaVu Sans Mono',consolas,'Courier New',monospace\"><span style=\"font-weight: bold\"> Trainable params: </span><span style=\"color: #00af00; text-decoration-color: #00af00\">12,730</span> (49.73 KB)\n",
              "</pre>\n"
            ]
          },
          "metadata": {}
        },
        {
          "output_type": "display_data",
          "data": {
            "text/plain": [
              "\u001b[1m Non-trainable params: \u001b[0m\u001b[38;5;34m0\u001b[0m (0.00 B)\n"
            ],
            "text/html": [
              "<pre style=\"white-space:pre;overflow-x:auto;line-height:normal;font-family:Menlo,'DejaVu Sans Mono',consolas,'Courier New',monospace\"><span style=\"font-weight: bold\"> Non-trainable params: </span><span style=\"color: #00af00; text-decoration-color: #00af00\">0</span> (0.00 B)\n",
              "</pre>\n"
            ]
          },
          "metadata": {}
        }
      ],
      "source": [
        "# 32 and sigmoid: Importing the required Keras modules containing model and layers\n",
        "from keras.models import Sequential\n",
        "from keras.layers import Dense, Conv2D, Dropout, Flatten, MaxPooling2D, Activation\n",
        "\n",
        "# Set activation layer - sigmoid or relu\n",
        "act_layer = 'sigmoid'\n",
        "#act_layer  'relu'\n",
        "\n",
        "# Creating a Sequential Model and add the layers - hidden and output\n",
        "model = Sequential()\n",
        "\n",
        "# Add 1st hidden layer\n",
        "model.add(Dense(64, input_dim=784, activation=act_layer))\n",
        "# Add 2nd hidden layer - if needed\n",
        "# model.add(Dense(128, activation=act_layer))\n",
        "# model.add(Dense(16, input_dim=784, activation=act_layer))\n",
        "# model.add(Dense(32, input_dim=784, activation=act_layer))\n",
        "\n",
        "\n",
        "# randomly drop few connections - to reduce memory and may improve accuracy\n",
        "# model.add(Dropout(0.2))\n",
        "\n",
        "# Output layer - 10 nodes for 10 output lables 0,1,...,9\n",
        "model.add(Dense(10, activation=tf.nn.softmax))\n",
        "\n",
        "# Print summary of model built - look at number of parameters needed; more params -> more resources\n",
        "model.summary()"
      ]
    },
    {
      "cell_type": "code",
      "execution_count": null,
      "metadata": {
        "colab": {
          "base_uri": "https://localhost:8080/"
        },
        "id": "n7gQpBdUFCie",
        "outputId": "04914743-b61e-4f37-c84f-7395c96c6190"
      },
      "outputs": [
        {
          "output_type": "stream",
          "name": "stdout",
          "text": [
            "Epoch 1/10\n",
            "1875/1875 [==============================] - 12s 5ms/step - loss: 1.0619 - accuracy: 0.7150\n",
            "Epoch 2/10\n",
            "1875/1875 [==============================] - 9s 5ms/step - loss: 0.5593 - accuracy: 0.8435\n",
            "Epoch 3/10\n",
            "1875/1875 [==============================] - 4s 2ms/step - loss: 0.4875 - accuracy: 0.8559\n",
            "Epoch 4/10\n",
            "1875/1875 [==============================] - 3s 2ms/step - loss: 0.4673 - accuracy: 0.8585\n",
            "Epoch 5/10\n",
            "1875/1875 [==============================] - 4s 2ms/step - loss: 0.4571 - accuracy: 0.8598\n",
            "Epoch 6/10\n",
            "1875/1875 [==============================] - 3s 2ms/step - loss: 0.4541 - accuracy: 0.8619\n",
            "Epoch 7/10\n",
            "1875/1875 [==============================] - 3s 2ms/step - loss: 0.4274 - accuracy: 0.8719\n",
            "Epoch 8/10\n",
            "1875/1875 [==============================] - 3s 2ms/step - loss: 0.4360 - accuracy: 0.8697\n",
            "Epoch 9/10\n",
            "1875/1875 [==============================] - 4s 2ms/step - loss: 0.4011 - accuracy: 0.8799\n",
            "Epoch 10/10\n",
            "1875/1875 [==============================] - 3s 2ms/step - loss: 0.4051 - accuracy: 0.8802\n"
          ]
        }
      ],
      "source": [
        "# Compile the ANN model with specific optimizer, loss function and performance metric\n",
        "# optimizer = sgd for stochastic gradient descent, OR adam -\n",
        "model.compile(optimizer='adam',\n",
        "              loss='sparse_categorical_crossentropy',\n",
        "              metrics=['accuracy'])\n",
        "\n",
        "# Train the ANN model iteratively for N epochs\n",
        "n_epochs = 10\n",
        "history = model.fit(x=x_train,y=y_train, epochs=n_epochs)"
      ]
    },
    {
      "cell_type": "code",
      "execution_count": null,
      "metadata": {
        "colab": {
          "base_uri": "https://localhost:8080/",
          "height": 552
        },
        "id": "0JYifHLcFCie",
        "outputId": "8d1233e4-950e-4909-cf98-d29f1d6e18e5"
      },
      "outputs": [
        {
          "output_type": "stream",
          "name": "stdout",
          "text": [
            "313/313 [==============================] - 1s 2ms/step - loss: 0.4215 - accuracy: 0.8743\n",
            "Test accuracy: 0.8743000030517578\n",
            "1/1 [==============================] - 0s 97ms/step\n",
            "\n",
            "Prediction: 4\n",
            "\n",
            "Actual input\n"
          ]
        },
        {
          "output_type": "display_data",
          "data": {
            "text/plain": [
              "<Figure size 640x480 with 1 Axes>"
            ],
            "image/png": "[encoded data removed]"
          },
          "metadata": {}
        }
      ],
      "source": [
        "# Evaluate the ANN model with the test samples\n",
        "score = model.evaluate(x_test, y_test)\n",
        "print('Test accuracy:', score[1])\n",
        "\n",
        "# Check the ANN with an example\n",
        "image_index = 1111\n",
        "plt.imshow(x_test[image_index].reshape(28, 28),cmap='Greys')\n",
        "pred = model.predict(x_test[image_index].reshape(1,28*28))\n",
        "print('\\nPrediction:', pred.argmax())\n",
        "print('\\nActual input')"
      ]
    },
    {
      "cell_type": "code",
      "execution_count": null,
      "metadata": {
        "id": "ujjbTfWxFCie",
        "colab": {
          "base_uri": "https://localhost:8080/",
          "height": 489
        },
        "outputId": "215fee8c-ec49-4505-bc00-541df7d4d1a7"
      },
      "outputs": [
        {
          "output_type": "execute_result",
          "data": {
            "text/plain": [
              "[<matplotlib.lines.Line2D at 0x7ed5d5f07490>]"
            ]
          },
          "metadata": {},
          "execution_count": 5
        },
        {
          "output_type": "display_data",
          "data": {
            "text/plain": [
              "<Figure size 640x480 with 1 Axes>"
            ],
            "image/png": "[encoded data removed]"
          },
          "metadata": {}
        }
      ],
      "source": [
        "# Plot the Training Loss - loss should decrease and approach 0 with number of epochs\n",
        "x = list(range(1, n_epochs+1))\n",
        "ty = history.history['loss']\n",
        "plt.title('Training Loss')\n",
        "plt.xlabel('Epochs')\n",
        "plt.ylabel('Categorical Cross-entropy Loss')\n",
        "plt.plot(x,ty)"
      ]
    },
    {
      "cell_type": "markdown",
      "metadata": {
        "id": "IN7AnRwuFCie"
      },
      "source": [
        " **Neuron Model**"
      ]
    },
    {
      "cell_type": "code",
      "execution_count": null,
      "metadata": {
        "id": "mbP2hB67FCie"
      },
      "outputs": [],
      "source": [
        "Vthresh = 1\n",
        "Cmem = 1e-12 #1pF\n",
        "Erev = 2.0\n",
        "lrn_rate = 0.2\n",
        "Gleak = 1e-8\n",
        "Eleak = 0.0\n",
        "I0 = 1e-6 #\n",
        "I1 = 1e-6\n",
        "tau_decay = 10\n",
        "tau_learn = 100\n",
        "dt = 1e-6 #1us step size\n",
        "\n",
        "# Calculate input synaptic current for neuron N2 only\n",
        "# for N0 and N1 Isyn is external input current, for N2 Isyn is sum of synaptic input currents\n",
        "# Gsyn is the weight change of the synapse (W0 or W1)\n",
        "def calc_Isyn(Isyn, Gsyn, tspike_pre, tnow, tau_decay, Erev, Vmem):\n",
        "    Isyn[tnow+1] += Gsyn*np.exp((tspike_pre-tnow)/tau_decay)*(Erev-Vmem[tnow])\n",
        "    return Isyn\n",
        "\n",
        "# Calcuate membrane voltage for neurons N0, N1 and N2 -\n",
        "# for N0 and N1 Isyn is external input current, for N2 Isyn is sum of synaptic input currents\n",
        "def calc_Vmem(Vm_init, Isyn, Cmem, dt):\n",
        "    return Vm_init + np.sum(Isyn, axis=0)*dt/Cmem + Gleak*(Eleak-Vm_init)*dt/Cmem\n",
        "\n",
        "# STDP Weight update rule - delta(Gsyn) is the weight change of the synapse (W0 or W1)\n",
        "def train_STDP(lrn_rate, tpre, tpost, tau_learn):\n",
        "    return lrn_rate*np.sign(tpost-tpre)*np.exp(np.sign(tpre-tpost)*(tpost-tpre)/tau_learn)\n",
        "\n",
        "#"
      ]
    },
    {
      "cell_type": "code",
      "execution_count": null,
      "metadata": {
        "id": "ZPRGp4UmFCie"
      },
      "outputs": [],
      "source": []
    }
  ],
  "metadata": {
    "kernelspec": {
      "display_name": "Python 3",
      "language": "python",
      "name": "python3"
    },
    "language_info": {
      "codemirror_mode": {
        "name": "ipython",
        "version": 3
      },
      "file_extension": ".py",
      "mimetype": "text/x-python",
      "name": "python",
      "nbconvert_exporter": "python",
      "pygments_lexer": "ipython3",
      "version": "3.7.3"
    },
    "colab": {
      "provenance": []
    }
  },
  "nbformat": 4,
  "nbformat_minor": 0
}
